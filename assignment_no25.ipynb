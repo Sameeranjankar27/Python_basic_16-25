{
  "nbformat": 4,
  "nbformat_minor": 0,
  "metadata": {
    "colab": {
      "provenance": []
    },
    "kernelspec": {
      "name": "python3",
      "display_name": "Python 3"
    },
    "language_info": {
      "name": "python"
    }
  },
  "cells": [
    {
      "cell_type": "code",
      "execution_count": null,
      "metadata": {
        "id": "NgCVjbqFTAYA"
      },
      "outputs": [],
      "source": [
        "\"\"\"1) . What is the difference between enclosing a list comprehension in square brackets and parentheses?\n",
        "Ans: Enclosing a list comprehension in square brackets returns a list.but where as enclosing a list comprehension in parentheses returns a generator object\"\"\"\n",
        "l = [ele for ele in range(10)]\n",
        "print(l, type(l))\n",
        "g = (ele for ele in range(10))\n",
        "print(g, type(g))"
      ]
    },
    {
      "cell_type": "code",
      "source": [
        "#2) What is the relationship between generators and iterators?\n",
        "\"\"\"Ans: An iterator is an object which contains a countable number of values and it is used to iterate over iterable objects like list, tuples, sets, etc. \n",
        "Iterators are implemented using a class. It follows lazy evaluation where the evaluation of the expression will be on hold and stored in the memory until the item is called \n",
        "\n",
        "specifically which helps us to avoid repeated evaluation. As lazy evaluation is implemented, it requires only 1 memory location to process the value and when we are using \n",
        "a large dataset then, wastage of RAM space will be reduced the need to load the entire dataset at the same time will not be there.For an iterator: iter() keyword is used to \n",
        "create an iterator containing an iterable object.next() keyword is used to call the next element in the iterable object.\n",
        "\n",
        "Similarly Generators are an another way of creating iterators in a simple way where it uses the keyword yield statement instead of return statement in a defined function.\n",
        "Generators are implemented using a function. Just as iterators, generators also follow lazy evaluation. Here, the yield function returns the data without affecting or exiting\n",
        " the function. It will return a sequence of data in an iterable format where we need to iterate over the sequence to use the data as they won’t store the entire sequence in the \n",
        " memory.\"\"\"\n",
        "\n",
        "\n",
        "iter_str = iter(['iNeuron','Full','Stack','Data Science'])\n",
        "print(type(iter_str))\n",
        "print(next(iter_str))\n",
        "print(next(iter_str))\n",
        "print(next(iter_str))\n",
        "print(next(iter_str))\n",
        "print(iter_str) # After the iterable object is completed, to use them again we have reassign them to the same object.\n",
        "\n",
        "# Example of Generator\n",
        "def cube_numbers(in_num):\n",
        "    for ele in range(in_num+1):\n",
        "        yield ele**3\n",
        "\n",
        "out_num = cube_numbers(4)\n",
        "print(next(out_num))\n",
        "print(next(out_num))\n",
        "print(next(out_num))\n",
        "print(next(out_num))\n",
        "print(next(out_num))\n"
      ],
      "metadata": {
        "id": "5dVagn9WTEBb"
      },
      "execution_count": null,
      "outputs": []
    },
    {
      "cell_type": "code",
      "source": [
        "#3) What are the signs that a function is a generator function?\n",
        "Ans: A generator function uses a yield statement instead of a return statement. A generator function will always return a iterable object called generator. where as a normal function can return a string/list/tuple/dict/NoneType ... etc\n",
        "\n",
        "#4) What is the purpose of a yield statement?\n",
        "Ans: The yield statement suspends function’s execution and sends a value back to the caller, but retains enough state to enable function to resume where it is left off. When resumed, the function continues execution immediately after the last yield run. This allows its code to produce a series of values over time, rather than computing them at once and sending them back like a list.\n",
        "\n",
        "#5) What is the relationship between map calls and list comprehensions? Make a comparison and contrast between the two ?\n",
        "Ans: The main differences between map calls and list comprehensiosn are:\n",
        "\n",
        "List comprehension is more concise and easier to read as compared to map.\n",
        "List comprehension allows filtering. In map, we have no such facility. For example, to print all odd numbers in range of 50, we can write [n for n in range(50) if n%2 != 0]. \n",
        "There is no alternate for it in map\n",
        "List comprehension are used when a list of results is required as final output.but map only returns a map object. it needs to be explicitly coverted to desired datatype.\n",
        "List comprehension is faster than map when we need to evaluate expressions that are too long or complicated to express\n",
        "Map is faster in case of calling an already defined function on a set of values."
      ],
      "metadata": {
        "id": "J-2vLdrATEEL"
      },
      "execution_count": null,
      "outputs": []
    },
    {
      "cell_type": "code",
      "source": [],
      "metadata": {
        "id": "zqVQHqj7TEJS"
      },
      "execution_count": null,
      "outputs": []
    },
    {
      "cell_type": "code",
      "source": [],
      "metadata": {
        "id": "ayHf-7WITELg"
      },
      "execution_count": null,
      "outputs": []
    },
    {
      "cell_type": "code",
      "source": [],
      "metadata": {
        "id": "NzFnblT7TEN2"
      },
      "execution_count": null,
      "outputs": []
    },
    {
      "cell_type": "code",
      "source": [],
      "metadata": {
        "id": "5tOf230HTEP4"
      },
      "execution_count": null,
      "outputs": []
    },
    {
      "cell_type": "code",
      "source": [],
      "metadata": {
        "id": "TMXqktFWTETX"
      },
      "execution_count": null,
      "outputs": []
    }
  ]
}