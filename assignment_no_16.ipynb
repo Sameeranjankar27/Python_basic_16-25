{
  "nbformat": 4,
  "nbformat_minor": 0,
  "metadata": {
    "colab": {
      "provenance": []
    },
    "kernelspec": {
      "name": "python3",
      "display_name": "Python 3"
    },
    "language_info": {
      "name": "python"
    }
  },
  "cells": [
    {
      "cell_type": "code",
      "execution_count": null,
      "metadata": {
        "id": "Lq-CKziMdS3V"
      },
      "outputs": [],
      "source": [
        "#1. Create a list called years_list, starting with the year of your birth, and each year thereafter until the year of your fifth birthday. \n",
        "#For example, if you were born in 1980. the list would be years_list = [1980, 1981, 1982, 1983, 1984, 1985].\n",
        "\n",
        "years_list = [ele for ele in range(1997,1997+6)]\n",
        "print(years_list)\n"
      ]
    },
    {
      "cell_type": "code",
      "source": [
        "#2. In which year in years_list was your third birthday? Remember, you were 0 years of age for your first year.\n",
        "print(years_list[3])\n"
      ],
      "metadata": {
        "id": "53H9s-43dlGQ"
      },
      "execution_count": null,
      "outputs": []
    },
    {
      "cell_type": "code",
      "source": [
        "#3.In the years list, which year were you the oldest?\n",
        "print(years_list[-1])\n"
      ],
      "metadata": {
        "id": "4kAjt91vdlJL"
      },
      "execution_count": null,
      "outputs": []
    },
    {
      "cell_type": "code",
      "source": [
        "#4. Make a list called things with these three strings as elements: \"mozzarella\", \"cinderella\", \"salmonella\".\n",
        "things = [ele+'ella' for ele in ['mozzar','cinder','salmon']]\n",
        "print(things)\n"
      ],
      "metadata": {
        "id": "v__mBdACdlLc"
      },
      "execution_count": null,
      "outputs": []
    },
    {
      "cell_type": "code",
      "source": [
        "#5. Capitalize the element in things that refers to a person and then print the list. Did it change the element in the list?\n",
        "for ele in range(len(things)):\n",
        "    if things[ele] == 'cinderella':\n",
        "        things[ele] = things[ele].capitalize()\n",
        "print(things)\n"
      ],
      "metadata": {
        "id": "VU0mJOUcdlNz"
      },
      "execution_count": null,
      "outputs": []
    },
    {
      "cell_type": "code",
      "source": [
        "#6. Make a surprise list with the elements \"Groucho,\" \"Chico,\" and \"Harpo.\"\n",
        "suprise_list = ['Groucho','Chico','Harpo']\n",
        "print(suprise_list)\n"
      ],
      "metadata": {
        "id": "HeOn0BBadlPV"
      },
      "execution_count": null,
      "outputs": []
    },
    {
      "cell_type": "code",
      "source": [
        "#7. Lowercase the last element of the surprise list, reverse it, and then capitalize it.\n",
        "print(suprise_list[-1].lower()[::-1].capitalize())\n"
      ],
      "metadata": {
        "id": "TANG49CodlRe"
      },
      "execution_count": null,
      "outputs": []
    },
    {
      "cell_type": "code",
      "source": [
        "#8. Make an English-to-French dictionary called e2f and print it. Here are your starter words: dog is chien, cat is chat, and walrus is morse.\n",
        "e2f = {'dog':'chien','cat':'chat','walrus':'morse'}\n",
        "print(e2f)\n"
      ],
      "metadata": {
        "id": "N0lnDiDodlYY"
      },
      "execution_count": null,
      "outputs": []
    },
    {
      "cell_type": "code",
      "source": [
        "#9. Write the French word for walrus in your three-word dictionary e2f.\n",
        "print(e2f.get('walrus'))\n"
      ],
      "metadata": {
        "id": "51NaLtH5dleN"
      },
      "execution_count": null,
      "outputs": []
    },
    {
      "cell_type": "code",
      "source": [
        "#10. Make a French-to-English dictionary called f2e from e2f. Use the items method.\n",
        "f2e = dict([ele[::-1] for ele in e2f.items()])\n",
        "print(f2e)\n"
      ],
      "metadata": {
        "id": "pR2puY4EecVI"
      },
      "execution_count": null,
      "outputs": []
    },
    {
      "cell_type": "code",
      "source": [
        "#11. Print the English version of the French word chien using f2e.\n",
        "print(f2e.get('chien'))\n"
      ],
      "metadata": {
        "id": "1YDmBluuecWy"
      },
      "execution_count": null,
      "outputs": []
    },
    {
      "cell_type": "code",
      "source": [
        "#12. Make and print a set of English words from the keys in e2f.\n",
        "print(list(e2f.keys()))\n"
      ],
      "metadata": {
        "id": "jwRasQeOecZI"
      },
      "execution_count": null,
      "outputs": []
    },
    {
      "cell_type": "code",
      "source": [
        "#13. Make a multilevel dictionary called life. Use these strings for the topmost keys: 'animals', 'plants', and 'other'. Make the 'animals' key refer to another dictionary with the keys 'cats', 'octopi', and 'emus'. Make the 'cats' key refer to a list of strings with the values 'Henri', 'Grumpy', and 'Lucy'. Make all the other keys refer to empty dictionaries.\n",
        "life = {\n",
        "    'animals':{\n",
        "        'cats':['Henri','Grumpy','Lucy'],\n",
        "        'octopi':{},\n",
        "        'emus':{}\n",
        "    },\n",
        "    'plants':{},\n",
        "    'other':{}\n",
        "}\n",
        "print(life)\n"
      ],
      "metadata": {
        "id": "BKzq0ZRYecbe"
      },
      "execution_count": null,
      "outputs": []
    },
    {
      "cell_type": "code",
      "source": [
        "#14. Print the top-level keys of life.\n",
        "print(list(life.keys()))\n"
      ],
      "metadata": {
        "id": "suWnQdhOecd2"
      },
      "execution_count": null,
      "outputs": []
    },
    {
      "cell_type": "code",
      "source": [
        "#15. Print the keys for life['animals'].\n",
        "print(list(life['animals'].keys()))\n"
      ],
      "metadata": {
        "id": "OypRuIxrechb"
      },
      "execution_count": null,
      "outputs": []
    },
    {
      "cell_type": "code",
      "source": [
        "#16. Print the values for life['animals']['cats']\n",
        "print(life['animals']['cats'])\n",
        "\n"
      ],
      "metadata": {
        "id": "3ZOsk4j-eulG"
      },
      "execution_count": null,
      "outputs": []
    },
    {
      "cell_type": "code",
      "source": [],
      "metadata": {
        "id": "N7xk65QPeuoX"
      },
      "execution_count": null,
      "outputs": []
    }
  ]
}